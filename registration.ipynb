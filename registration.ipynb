{
 "cells": [
  {
   "cell_type": "code",
   "execution_count": null,
   "metadata": {},
   "outputs": [],
   "source": [
    "import numpy as np\n",
    "import os\n",
    "import json\n",
    "import pycpd\n",
    "from scipy import interpolate as ip\n",
    "from matplotlib import pyplot as plt"
   ]
  },
  {
   "cell_type": "code",
   "execution_count": null,
   "metadata": {},
   "outputs": [],
   "source": [
    "def extract_annotation(data):\n",
    "    for item in data:\n",
    "        if 'classification' in item['properties']:\n",
    "            if item['properties']['classification']['name'] == 'Region*':\n",
    "                annotation_list = []\n",
    "                for sublist in item['geometry']['coordinates']:\n",
    "                    for sublist2 in sublist:\n",
    "                        for point in sublist2:\n",
    "                            annotation_list.append(point)\n",
    "                return np.array(annotation_list)"
   ]
  },
  {
   "cell_type": "code",
   "execution_count": null,
   "metadata": {},
   "outputs": [],
   "source": [
    "file_path_anno = ['data/Annotation-C.json', \n",
    "                  'data/Annotation-D.json',\n",
    "                  'data/Annotation-E.json',\n",
    "                  'data/Annotation-F.json',\n",
    "                  'data/Annotation-G.json',\n",
    "                  'data/Annotation-H.json']\n",
    "\n",
    "x_annotations = []\n",
    "y_annotations = []\n",
    "\n",
    "for path in file_path_anno:\n",
    "    annotation = []\n",
    "    with open(path) as f:\n",
    "        data = json.load(f)\n",
    "    annotation = extract_annotation(data)\n",
    "    x_annotation = annotation[:,0]\n",
    "    x_annotations.append(x_annotation)\n",
    "    y_annotation = annotation[:,1]\n",
    "    y_annotations.append(y_annotation)"
   ]
  },
  {
   "cell_type": "code",
   "execution_count": null,
   "metadata": {},
   "outputs": [],
   "source": [
    "# Annotation C\n",
    "plt.scatter(x_annotations[0],y_annotations[0])"
   ]
  },
  {
   "cell_type": "code",
   "execution_count": null,
   "metadata": {},
   "outputs": [],
   "source": [
    "# Annotation D\n",
    "plt.scatter(x_annotations[1],y_annotations[1])"
   ]
  },
  {
   "cell_type": "code",
   "execution_count": null,
   "metadata": {},
   "outputs": [],
   "source": [
    "# Annotation E\n",
    "plt.scatter(x_annotations[2],y_annotations[2])"
   ]
  },
  {
   "cell_type": "code",
   "execution_count": null,
   "metadata": {},
   "outputs": [],
   "source": [
    "# Annotation F\n",
    "plt.scatter(x_annotations[3],y_annotations[3])"
   ]
  },
  {
   "cell_type": "code",
   "execution_count": null,
   "metadata": {},
   "outputs": [],
   "source": [
    "# Annotation G\n",
    "plt.scatter(x_annotations[4],y_annotations[4])"
   ]
  },
  {
   "cell_type": "code",
   "execution_count": null,
   "metadata": {},
   "outputs": [],
   "source": [
    "# Annotation H\n",
    "plt.scatter(x_annotations[5],y_annotations[5])"
   ]
  },
  {
   "cell_type": "code",
   "execution_count": null,
   "metadata": {},
   "outputs": [],
   "source": [
    "file_path_cut = ['data/Schnitt-C.obj', \n",
    "                 'data/Schnitt-D.obj',\n",
    "                 'data/Schnitt-E.obj',\n",
    "                 'data/Schnitt-F.obj',\n",
    "                 'data/Schnitt-G.obj',\n",
    "                 'data/Schnitt-H.obj']\n",
    "x_cuts = []\n",
    "y_cuts = []\n",
    "\n",
    "for path in file_path_cut:\n",
    "    with open(path) as f:\n",
    "        readlines = f.readlines()\n",
    "    l = []\n",
    "    for line in readlines:\n",
    "        if line.startswith('l '):\n",
    "            lines = line.split(' ')\n",
    "            if lines[1] not in l:\n",
    "                l.append(int(lines[1]))\n",
    "            if lines[2] not in l:\n",
    "                l.append(int(lines[2]))\n",
    "                \n",
    "    x_cut = []\n",
    "    y_cut = []\n",
    "    for index in l:\n",
    "        splitted = readlines[index-1].split(' ')\n",
    "        x_cut.append(float(splitted[3]))\n",
    "        y_cut.append(float(splitted[1]))\n",
    "    x_cuts.append(x_cut)\n",
    "    y_cuts.append(y_cut)"
   ]
  },
  {
   "cell_type": "code",
   "execution_count": null,
   "metadata": {},
   "outputs": [],
   "source": [
    "# Schnitt C\n",
    "plt.scatter(x_cuts[0], y_cuts[0])"
   ]
  },
  {
   "cell_type": "code",
   "execution_count": null,
   "metadata": {},
   "outputs": [],
   "source": [
    "# Schnitt D\n",
    "plt.scatter(x_cuts[1], y_cuts[1])"
   ]
  },
  {
   "cell_type": "code",
   "execution_count": null,
   "metadata": {},
   "outputs": [],
   "source": [
    "# Schnitt E\n",
    "plt.scatter(x_cuts[2], y_cuts[2])"
   ]
  },
  {
   "cell_type": "code",
   "execution_count": null,
   "metadata": {},
   "outputs": [],
   "source": [
    "# Schnitt F\n",
    "plt.scatter(x_cuts[3], y_cuts[3])"
   ]
  },
  {
   "cell_type": "code",
   "execution_count": null,
   "metadata": {},
   "outputs": [],
   "source": [
    "# Schnitt G\n",
    "plt.scatter(x_cuts[4], y_cuts[4])"
   ]
  },
  {
   "cell_type": "code",
   "execution_count": null,
   "metadata": {},
   "outputs": [],
   "source": [
    "# Schnitt H\n",
    "plt.scatter(x_cuts[5], y_cuts[5])"
   ]
  },
  {
   "cell_type": "code",
   "execution_count": null,
   "metadata": {
    "scrolled": true
   },
   "outputs": [],
   "source": [
    "# Vorregestrierung\n",
    "\n",
    "# https://medium.com/@olga_kravchenko/generalized-procrustes-analysis-with-python-numpy-c571e8e8a421\n",
    "# *gemeinsamen Nullpunkt finden\n",
    "x_edited_anns=[]\n",
    "y_edited_anns=[]\n",
    "x_edited_cuts=[]\n",
    "y_edited_cuts=[]\n",
    "\n",
    "def center_list(list):\n",
    "    #extrema bestimmen\n",
    "    min_list=min(list)\n",
    "    max_list=max(list)\n",
    "    \n",
    "    #vesrschiebung errechnen\n",
    "    center=(min_list+max_list)/2\n",
    "    \n",
    "    #Punkte verschieben\n",
    "    return_list=np.array(list)-center\n",
    "    \n",
    "    return return_list\n",
    "\n",
    "for i in range(0, len(x_cuts)):\n",
    "    x_edited_anns.append(center_list(x_annotations[i]))\n",
    "    y_edited_anns.append(center_list(y_annotations[i]))\n",
    "    x_edited_cuts.append(center_list(x_cuts[i]))\n",
    "    y_edited_cuts.append(center_list(y_cuts[i]))\n",
    "    \n",
    "plt.scatter(x_edited_cuts[0],y_edited_cuts[0])\n",
    "plt.scatter(x_edited_anns[0],y_edited_anns[0])"
   ]
  },
  {
   "cell_type": "code",
   "execution_count": null,
   "metadata": {},
   "outputs": [],
   "source": [
    "# *Abstände zum Nullpunkt normalisieren\n",
    "def scale_lists(x_list,y_list):\n",
    "    dists=np.sqrt(x_list**2 + y_list**2)\n",
    "    avrg_dist=np.average(dists)\n",
    "    scaled_x_list=x_list/avrg_dist\n",
    "    scaled_y_list=y_list/avrg_dist\n",
    "    return scaled_x_list, scaled_y_list\n",
    "\n",
    "for i in range(0,len(x_edited_anns)):\n",
    "    x_edited_anns[i],y_edited_anns[i]= scale_lists(x_edited_anns[i],y_edited_anns[i])\n",
    "    \n",
    "for i in range(0,len(x_edited_cuts)):\n",
    "    x_edited_cuts[i],y_edited_cuts[i]= scale_lists(x_edited_cuts[i],y_edited_cuts[i])\n",
    "\n",
    "plt.scatter(x_edited_cuts[5],y_edited_cuts[5])\n",
    "plt.scatter(x_edited_anns[5],y_edited_anns[5])"
   ]
  },
  {
   "cell_type": "code",
   "execution_count": null,
   "metadata": {},
   "outputs": [],
   "source": [
    "f = plt.figure()    \n",
    "f, axes = plt.subplots(nrows = 3, ncols = 2, sharex=True, sharey = True)\n",
    "for i in range(0,len(x_edited_cuts)):\n",
    "    axes[int(i/2),i%2].scatter(x_edited_cuts[i],y_edited_cuts[i])\n",
    "    axes[int(i/2),i%2].scatter(x_edited_anns[i],y_edited_anns[i])\n",
    "    \n",
    "#Ergebisse sind Falsch Rotiert und sehen hier verzerrt aus, aber die Ergenisse sollten okay sein "
   ]
  },
  {
   "cell_type": "code",
   "execution_count": null,
   "metadata": {},
   "outputs": [],
   "source": [
    "# *Upsampling - # Interpolation für mehr Punkte\n",
    "\n",
    "def interpolate(x1, y1, center_x,center_y,midpoints_x, midpoints_y, ct):\n",
    "    if midpoints_x == None and  midpoints_y == None:\n",
    "        midpoints_x = []\n",
    "        midpoints_y = []\n",
    "\n",
    "    diff_m_x = (abs(x1-center_x)/ct)\n",
    "    diff_m_y = (abs(y1-center_y)/ct)\n",
    "    m_x = x1\n",
    "    m_y = y1\n",
    "    \n",
    "    for i in range(0,ct):\n",
    "        if x1 > center_x:\n",
    "            m_x = m_x - diff_m_x\n",
    "        elif x1 < center_x:\n",
    "            m_x = m_x + diff_m_x\n",
    "        if y1 > center_y:\n",
    "            m_y = m_y - diff_m_y\n",
    "        elif y1 < center_y:\n",
    "            m_y = m_y + diff_m_y\n",
    "        \n",
    "        midpoints_x.append(m_x)\n",
    "        midpoints_y.append(m_y)\n",
    "\n",
    "    return midpoints_x, midpoints_y"
   ]
  },
  {
   "cell_type": "code",
   "execution_count": null,
   "metadata": {
    "scrolled": false
   },
   "outputs": [],
   "source": [
    "f = plt.figure()    \n",
    "f, axes = plt.subplots(nrows = 3, ncols = 2, sharex=True, sharey = True)\n",
    "\n",
    "for i in range(0,len(x_cuts)):\n",
    "    \n",
    "    x_cuts_copy = x_cuts[i]\n",
    "    y_cuts_copy = y_cuts[i]\n",
    "    \n",
    "    \n",
    "    x1 = x_cuts[i][-2]\n",
    "    y1 = y_cuts[i][-2]#li. außen\n",
    "    x2 = x_cuts[i][-4]\n",
    "    y2 = y_cuts[i][-4]#re. außen\n",
    "    c_x = x_cuts[i][-1]\n",
    "    c_y = y_cuts[i][-1]#mitte\n",
    "    \n",
    "    midpoints_x1, midpoints_y1 = interpolate(x1, y1, c_x, c_y, None, None, 50)\n",
    "    midpoints_x2, midpoints_y2 = interpolate(x2, y2, c_x, c_y,None, None, 50)\n",
    "    midpoints_x2 = np.array(midpoints_x2)\n",
    "    midpoints_y2 = np.array(midpoints_y2)\n",
    "    \n",
    "    x_cuts[i] = np.append(x_cuts[i], midpoints_x1)\n",
    "    y_cuts[i] = np.append(y_cuts[i], midpoints_y1)\n",
    "    x_cuts[i] = np.append(x_cuts[i], midpoints_x2)\n",
    "    y_cuts[i] = np.append(y_cuts[i], midpoints_y2)\n",
    "    \n",
    "    axes[int(i/2),i%2].scatter(x_cuts[i], y_cuts[i])\n",
    "    #axes[int(i/2),i%2].scatter(midpoints_x1, midpoints_y1)\n",
    "    #axes[int(i/2),i%2].scatter(midpoints_x2, midpoints_y2)\n",
    "    axes[int(i/2),i%2].scatter(x_cuts_copy[-4], y_cuts_copy[-4])\n",
    "    axes[int(i/2),i%2].scatter(x_cuts_copy[-2], y_cuts_copy[-2])\n",
    "    axes[int(i/2),i%2].scatter(x_cuts_copy[-1], y_cuts_copy[-1]) \n"
   ]
  },
  {
   "cell_type": "code",
   "execution_count": null,
   "metadata": {},
   "outputs": [],
   "source": [
    "# Point Drift Registrierung"
   ]
  },
  {
   "cell_type": "code",
   "execution_count": null,
   "metadata": {},
   "outputs": [],
   "source": [
    "# Flipping und Rotation für das Anpassen der Annotationen\n",
    "def flip(x_list):\n",
    "    new_x_list = []\n",
    "    max_x=max(x_list)\n",
    "    min_x=min(x_list)\n",
    "    for x in x_list:\n",
    "        new_x = min_x + max_x-x\n",
    "        new_x_list.append(new_x)\n",
    "    return new_x_list\n",
    "\n",
    "def unstack(a, axis=0):\n",
    "    return np.moveaxis(a, axis, 0)\n",
    "#    return list(np.moveaxis(a, axis, 0))\n",
    "\n",
    "\n",
    "def rotate(x_list,y_list,radians):\n",
    "    theta = np.radians(radians)\n",
    "    c, s = np.cos(theta), np.sin(theta)\n",
    "    R = np.array(((c, -s), (s, c)))\n",
    "    new_coord_list =  []\n",
    "    new_x_list = []\n",
    "    new_y_list =  []\n",
    "    arr = np.stack((x_list,y_list), axis=-1)\n",
    "    for coord in arr:\n",
    "        coord = coord.flatten()\n",
    "        new_coord = R.dot(coord)\n",
    "        new_coord_list.append(new_coord)\n",
    "    new_coord_list = np.asfarray(new_coord_list)\n",
    "    for coord in new_coord_list:\n",
    "        x,y, = unstack(coord)\n",
    "        new_x_list.append(x)\n",
    "        new_y_list.append(y)\n",
    "    return new_x_list, new_y_list\n",
    "    \n",
    "    "
   ]
  },
  {
   "cell_type": "code",
   "execution_count": null,
   "metadata": {},
   "outputs": [],
   "source": [
    "collection_x_anns =[]\n",
    "collection_y_anns = []\n",
    "\n",
    "# Datei C - vertikaler & horizontaler Flip\n",
    "x_flipped_anns_c= flip(x_edited_anns[0])\n",
    "y_flipped_anns_c = flip(y_edited_anns[0])\n",
    "collection_x_anns.append(x_flipped_anns_c)\n",
    "collection_y_anns.append(y_flipped_anns_c)\n",
    "\n",
    "# Für Datei D, Rotation und Ausrichtung richtig. Für andere Dateien problematisch, Lösung suchen\n",
    "x_flipped_anns_d= x_edited_anns[1]\n",
    "y_flipped_anns_d= y_edited_anns[1]\n",
    "collection_x_anns.append(x_flipped_anns_d)\n",
    "collection_y_anns.append(y_flipped_anns_d)\n",
    "\n",
    "# Datei E - 90° Rotation\n",
    "x_flipped_anns_e, y_flipped_anns_e= rotate(x_edited_anns[2], y_edited_anns[2],270)\n",
    "collection_x_anns.append(x_flipped_anns_e)\n",
    "collection_y_anns.append(y_flipped_anns_e)\n",
    "\n",
    "# Datei F - vertikaler Flip - 25° Rotation\n",
    "x_flipped_anns_f= x_edited_anns[3]\n",
    "y_flipped_anns_f = flip(y_edited_anns[3])\n",
    "x_flipped_anns_f, y_flipped_anns_f = rotate(x_flipped_anns_f, y_flipped_anns_f,335)\n",
    "collection_x_anns.append(x_flipped_anns_f)\n",
    "collection_y_anns.append(y_flipped_anns_f)\n",
    "\n",
    "# Datei G - horizontaler Flip\n",
    "x_flipped_anns_g= flip(x_edited_anns[4])\n",
    "y_flipped_anns_g = y_edited_anns[4]\n",
    "collection_x_anns.append(x_flipped_anns_g)\n",
    "collection_y_anns.append(y_flipped_anns_g)\n",
    "\n",
    "# Datei H - vertikaler & horizontaler Flip\n",
    "x_flipped_anns_h= flip(x_edited_anns[5])\n",
    "y_flipped_anns_h = flip(y_edited_anns[5])\n",
    "collection_x_anns.append(x_flipped_anns_h)\n",
    "collection_y_anns.append(y_flipped_anns_h)"
   ]
  },
  {
   "cell_type": "code",
   "execution_count": null,
   "metadata": {},
   "outputs": [],
   "source": [
    "f = plt.figure()    \n",
    "f, axes = plt.subplots(nrows = 3, ncols = 2, sharex=True, sharey = True)\n",
    "for i in range(0,len(x_edited_cuts)):\n",
    "    axes[int(i/2),i%2].scatter(x_edited_cuts[i],y_edited_cuts[i])\n",
    "    axes[int(i/2),i%2].scatter(collection_x_anns[i],collection_y_anns[i])"
   ]
  },
  {
   "cell_type": "code",
   "execution_count": null,
   "metadata": {},
   "outputs": [],
   "source": [
    "# Programm bereinigen, Abgabefertig machen"
   ]
  },
  {
   "cell_type": "code",
   "execution_count": null,
   "metadata": {},
   "outputs": [],
   "source": []
  },
  {
   "cell_type": "markdown",
   "metadata": {},
   "source": [
    "## "
   ]
  }
 ],
 "metadata": {
  "kernelspec": {
   "display_name": "Python 3 (ipykernel)",
   "language": "python",
   "name": "python3"
  },
  "language_info": {
   "codemirror_mode": {
    "name": "ipython",
    "version": 3
   },
   "file_extension": ".py",
   "mimetype": "text/x-python",
   "name": "python",
   "nbconvert_exporter": "python",
   "pygments_lexer": "ipython3",
   "version": "3.9.5"
  }
 },
 "nbformat": 4,
 "nbformat_minor": 2
}
