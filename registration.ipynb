{
 "cells": [
  {
   "cell_type": "code",
   "execution_count": 1,
   "metadata": {},
   "outputs": [],
   "source": [
    "import numpy as np\n",
    "import json\n",
    "import pycpd\n",
    "from matplotlib import pyplot as plt"
   ]
  },
  {
   "cell_type": "code",
   "execution_count": 2,
   "metadata": {
    "scrolled": true
   },
   "outputs": [],
   "source": [
    "with open('Annotationen/Annotation-D.json') as f:\n",
    "    data = json.load(f)\n",
    "\n",
    "# für Schnitte C und D sind die json Dateien richtig (Regionsbenennung 'name'='Other')\n",
    "# TODO E, F, G, H Json richtig darstellen\n",
    "    \n",
    "for item in data:\n",
    "    if 'classification' in item['properties']:\n",
    "        if item['properties']['classification']['name'] == 'Other':\n",
    "            annotation_c_list = []\n",
    "            for sublist in item['geometry']['coordinates']:\n",
    "                for sublist2 in sublist:\n",
    "                    for point in sublist2:\n",
    "                        annotation_c_list.append(point)\n",
    "            annotation_c = np.array(annotation_c_list)\n",
    "            \n",
    "            "
   ]
  },
  {
   "cell_type": "code",
   "execution_count": 15,
   "metadata": {},
   "outputs": [
    {
     "name": "stdout",
     "output_type": "stream",
     "text": [
      "[[45826.32  1247.17]\n",
      " [45275.25  1276.18]\n",
      " [44869.19  1334.18]\n",
      " ...\n",
      " [44047.   57156.  ]\n",
      " [44046.   57157.  ]\n",
      " [44046.   57157.92]]\n"
     ]
    }
   ],
   "source": [
    "print(annotation_c)"
   ]
  },
  {
   "cell_type": "code",
   "execution_count": 13,
   "metadata": {},
   "outputs": [
    {
     "data": {
      "text/plain": [
       "<matplotlib.collections.PathCollection at 0x2146bc0fc48>"
      ]
     },
     "execution_count": 13,
     "metadata": {},
     "output_type": "execute_result"
    },
    {
     "data": {
      "image/png": "[encoded data removed]",
      "text/plain": [
       "<Figure size 432x288 with 1 Axes>"
      ]
     },
     "metadata": {
      "needs_background": "light"
     },
     "output_type": "display_data"
    }
   ],
   "source": [
    "x_anno = annotation_c[:,0]\n",
    "y_anno = annotation_c[:,1]\n",
    "plt.scatter(x_anno,y_anno)"
   ]
  },
  {
   "cell_type": "code",
   "execution_count": 5,
   "metadata": {},
   "outputs": [],
   "source": [
    "x_cut = []\n",
    "y_cut = []\n",
    "l = []\n",
    "\n",
    "with open('Annotationen/Schnitt-D.obj') as obj:\n",
    "    readlines = obj.readlines()\n",
    "    \n",
    "for line in readlines:\n",
    "    if line.startswith('l '):\n",
    "        lines = line.split(' ')\n",
    "        if lines[1] not in l:\n",
    "            l.append(int(lines[1]))\n",
    "        if lines[2] not in l:\n",
    "            l.append(int(lines[2]))\n",
    "            \n",
    "for index in l:\n",
    "    splitted = readlines[index].split(' ')\n",
    "    x_cut.append(float(splitted[3])-1)\n",
    "    y_cut.append(float(splitted[1])-1)\n",
    "    \n",
    "        "
   ]
  },
  {
   "cell_type": "code",
   "execution_count": 6,
   "metadata": {},
   "outputs": [
    {
     "data": {
      "text/plain": [
       "<matplotlib.collections.PathCollection at 0x2146bb03f48>"
      ]
     },
     "execution_count": 6,
     "metadata": {},
     "output_type": "execute_result"
    },
    {
     "data": {
      "image/png": "[encoded data removed]",
      "text/plain": [
       "<Figure size 432x288 with 1 Axes>"
      ]
     },
     "metadata": {
      "needs_background": "light"
     },
     "output_type": "display_data"
    }
   ],
   "source": [
    "plt.scatter(x_cut, y_cut)"
   ]
  },
  {
   "cell_type": "code",
   "execution_count": 7,
   "metadata": {},
   "outputs": [],
   "source": [
    "# Vorregestrierung\n",
    "\n",
    "# https://medium.com/@olga_kravchenko/generalized-procrustes-analysis-with-python-numpy-c571e8e8a421\n",
    "# *gemeinsamen Nullpunkt finden\n",
    "# *Abstände zum Nullpunkt normalisieren\n",
    "\n",
    "# *Upsampling - # Interpolation für mehr Punkte"
   ]
  },
  {
   "cell_type": "code",
   "execution_count": 8,
   "metadata": {},
   "outputs": [],
   "source": [
    "# Point Drift Registrierung"
   ]
  },
  {
   "cell_type": "code",
   "execution_count": 9,
   "metadata": {},
   "outputs": [],
   "source": [
    "# Für Datei D, Rotation und Ausrichtung richtig. Für andere Dateien problematisch, Lösung suchen"
   ]
  },
  {
   "cell_type": "code",
   "execution_count": 10,
   "metadata": {},
   "outputs": [],
   "source": [
    "# Programm bereinigen, Abgabefertig machen"
   ]
  },
  {
   "cell_type": "code",
   "execution_count": null,
   "metadata": {},
   "outputs": [],
   "source": []
  }
 ],
 "metadata": {
  "kernelspec": {
   "display_name": "Python 3.7.4 64-bit ('base': conda)",
   "language": "python",
   "name": "python37464bitbaseconda2425be582e62444cb8ca9658d484db6c"
  },
  "language_info": {
   "codemirror_mode": {
    "name": "ipython",
    "version": 3
   },
   "file_extension": ".py",
   "mimetype": "text/x-python",
   "name": "python",
   "nbconvert_exporter": "python",
   "pygments_lexer": "ipython3",
   "version": "3.7.4"
  }
 },
 "nbformat": 4,
 "nbformat_minor": 2
}
